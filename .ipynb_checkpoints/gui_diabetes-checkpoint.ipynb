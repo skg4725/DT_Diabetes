{
 "cells": [
  {
   "cell_type": "code",
   "execution_count": 1,
   "id": "79b8a861",
   "metadata": {},
   "outputs": [],
   "source": [
    "import tkinter as tk\n",
    "from tkinter import messagebox\n",
    "import numpy as np\n",
    "import pickle\n",
    "import tensorflow as tf\n",
    "from tensorflow.keras.models import load_model"
   ]
  },
  {
   "cell_type": "code",
   "execution_count": 2,
   "id": "925d4aed",
   "metadata": {},
   "outputs": [],
   "source": [
    "model = load_model('diabetes_model')\n",
    "normalized_model = load_model('Normalized_model')"
   ]
  },
  {
   "cell_type": "code",
   "execution_count": 5,
   "id": "7354ac0d",
   "metadata": {},
   "outputs": [],
   "source": [
    "def predict_diabetes():\n",
    "    # Get the selected values from the dropdown menus\n",
    "    gender = gender_var.get()\n",
    "    age = age_var.get()\n",
    "    hypertension = hypertension_var.get()\n",
    "    smoking_history = smoking_var.get()\n",
    "    heart_disease = heart_disease_var.get()\n",
    "    bmi = bmi_var.get()\n",
    "    hba1c_level = hba1c_var.get()\n",
    "    blood_glucose_level = blood_glucose_var.get()\n",
    "    \n",
    "    # Perform any necessary data preprocessing\n",
    "    gender = 0 if gender=='Female' else (1 if gender=='Male' else 2)\n",
    "    hypertension = 0 if hypertension=='No' else 1\n",
    "    smoking_history = 0  if smoking_history==\"No Info\" else( 1 if smoking_history==\"current\" else(2 if smoking_history==\"ever\" else (3 if smoking_history==\"former\" else (4 if smoking_history==\"never\" else 5))))\n",
    "    heart_disease = 0 if heart_disease=='No' else 1\n",
    "    x = np.asarray([[gender, age, hypertension, smoking_history, heart_disease, bmi, hba1c_level, blood_glucose_level]])\n",
    "    x = np.asarray(x).astype(np.float32)\n",
    "    x = normalized_model(x)\n",
    "    \n",
    "    # Make the prediction using the loaded model\n",
    "    prediction = model.predict(x)\n",
    "    prediction = tf.nn.sigmoid(prediction)\n",
    "    # Display the prediction and accuracy\n",
    "    accuracy = 100*prediction[0]\n",
    "    if prediction[0]<0.5:\n",
    "        accuracy = 100 - accuracy\n",
    "    \n",
    "    messagebox.showinfo(\"Diabetes Prediction\", f\"Diabetes: {'Yes' if prediction[0]>0.5 else 'No'}\\nConfidence: {accuracy}\")"
   ]
  },
  {
   "cell_type": "code",
   "execution_count": null,
   "id": "d85d57cf",
   "metadata": {},
   "outputs": [
    {
     "name": "stdout",
     "output_type": "stream",
     "text": [
      "1/1 [==============================] - 0s 15ms/step\n"
     ]
    }
   ],
   "source": [
    "\n",
    "# Create the main window\n",
    "window = tk.Tk()\n",
    "window.title(\"Diabetes Prediction\")\n",
    "\n",
    "# Create the labels and dropdown menus\n",
    "gender_label = tk.Label(window, text=\"Gender:\")\n",
    "gender_label.grid(row=0, column=0, padx=10, pady=5)\n",
    "gender_var = tk.StringVar(window)\n",
    "gender_var.set(\"Male\")  # Set the default value\n",
    "gender_dropdown = tk.OptionMenu(window, gender_var, \"Male\", \"Female\", \"Other\")\n",
    "gender_dropdown.grid(row=0, column=1, padx=10, pady=5)\n",
    "\n",
    "age_label = tk.Label(window, text=\"Age:\")\n",
    "age_label.grid(row=1, column=0, padx=10, pady=5)\n",
    "age_var = tk.StringVar(window)\n",
    "age_entry = tk.Entry(window, textvariable=age_var)\n",
    "age_entry.grid(row=1, column=1, padx=10, pady=5)\n",
    "\n",
    "hypertension_label = tk.Label(window, text=\"Hypertension:\")\n",
    "hypertension_label.grid(row=2, column=0, padx=10, pady=5)\n",
    "hypertension_var = tk.StringVar(window)\n",
    "hypertension_var.set(\"No\")  # Set the default value\n",
    "hypertension_dropdown = tk.OptionMenu(window, hypertension_var, \"No\", \"Yes\")\n",
    "hypertension_dropdown.grid(row=2, column=1, padx=10, pady=5)\n",
    "\n",
    "smoking_label = tk.Label(window, text=\"Smoking History:\")\n",
    "smoking_label.grid(row=3, column=0, padx=10, pady=5)\n",
    "smoking_var = tk.StringVar(window)\n",
    "smoking_var.set(\"No Info\")  # Set the default value\n",
    "smoking_dropdown = tk.OptionMenu(window, smoking_var, \"No Info\", \"current\", \"ever\", \"former\", \"never\", \"not current\")\n",
    "smoking_dropdown.grid(row=3, column=1, padx=10, pady=5)\n",
    "\n",
    "heart_disease_label = tk.Label(window, text=\"Heart Disease:\")\n",
    "heart_disease_label.grid(row=4, column=0, padx=10, pady=5)\n",
    "heart_disease_var = tk.StringVar(window)\n",
    "heart_disease_var.set(\"No\")  # Set the default value\n",
    "heart_disease_dropdown = tk.OptionMenu(window, heart_disease_var, \"No\", \"Yes\")\n",
    "heart_disease_dropdown.grid(row=4, column=1, padx=10, pady=5)\n",
    "\n",
    "bmi_label = tk.Label(window, text=\"BMI:\")\n",
    "bmi_label.grid(row=5, column=0, padx=10, pady=5)\n",
    "bmi_var = tk.StringVar(window)\n",
    "bmi_entry = tk.Entry(window, textvariable=bmi_var)\n",
    "bmi_entry.grid(row=5, column=1, padx=10, pady=5)\n",
    "\n",
    "hba1c_label = tk.Label(window, text=\"HbA1c Level:\")\n",
    "hba1c_label.grid(row=6, column=0, padx=10, pady=5)\n",
    "hba1c_var = tk.StringVar(window)\n",
    "hba1c_entry = tk.Entry(window, textvariable=hba1c_var)\n",
    "hba1c_entry.grid(row=6, column=1, padx=10, pady=5)\n",
    "\n",
    "blood_glucose_label = tk.Label(window, text=\"Blood Glucose Level:\")\n",
    "blood_glucose_label.grid(row=7, column=0, padx=10, pady=5)\n",
    "blood_glucose_var = tk.StringVar(window)\n",
    "blood_glucose_entry = tk.Entry(window, textvariable=blood_glucose_var)\n",
    "blood_glucose_entry.grid(row=7, column=1, padx=10, pady=5)\n",
    "\n",
    "# Create the predict button\n",
    "predict_button = tk.Button(window, text=\"Predict\", command=predict_diabetes)\n",
    "predict_button.grid(row=8, column=0, columnspan=2, padx=10, pady=10)\n",
    "\n",
    "window.mainloop()"
   ]
  },
  {
   "cell_type": "code",
   "execution_count": null,
   "id": "17458d38",
   "metadata": {},
   "outputs": [],
   "source": []
  }
 ],
 "metadata": {
  "kernelspec": {
   "display_name": "Python 3 (ipykernel)",
   "language": "python",
   "name": "python3"
  },
  "language_info": {
   "codemirror_mode": {
    "name": "ipython",
    "version": 3
   },
   "file_extension": ".py",
   "mimetype": "text/x-python",
   "name": "python",
   "nbconvert_exporter": "python",
   "pygments_lexer": "ipython3",
   "version": "3.10.9"
  }
 },
 "nbformat": 4,
 "nbformat_minor": 5
}
