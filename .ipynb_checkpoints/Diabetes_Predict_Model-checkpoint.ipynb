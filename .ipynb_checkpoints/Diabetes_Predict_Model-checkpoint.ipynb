{
 "cells": [
  {
   "cell_type": "markdown",
   "id": "6cfc26c9",
   "metadata": {},
   "source": [
    "# Diabetes Prediction Model"
   ]
  },
  {
   "cell_type": "markdown",
   "id": "4b85adf9",
   "metadata": {},
   "source": [
    "Installing required dependencies using pip"
   ]
  },
  {
   "cell_type": "code",
   "execution_count": 8,
   "id": "2caf2a2c",
   "metadata": {},
   "outputs": [
    {
     "name": "stdout",
     "output_type": "stream",
     "text": [
      "Requirement already satisfied: pandas in c:\\users\\snpra\\miniconda3\\envs\\ai\\lib\\site-packages (1.5.2)\n",
      "Requirement already satisfied: numpy in c:\\users\\snpra\\miniconda3\\envs\\ai\\lib\\site-packages (1.23.5)\n",
      "Requirement already satisfied: tensorflow in c:\\users\\snpra\\miniconda3\\envs\\ai\\lib\\site-packages (2.10.0)\n",
      "Requirement already satisfied: sklearn in c:\\users\\snpra\\miniconda3\\envs\\ai\\lib\\site-packages (0.0.post5)\n",
      "Requirement already satisfied: pytz>=2020.1 in c:\\users\\snpra\\miniconda3\\envs\\ai\\lib\\site-packages (from pandas) (2022.7)\n",
      "Requirement already satisfied: python-dateutil>=2.8.1 in c:\\users\\snpra\\miniconda3\\envs\\ai\\lib\\site-packages (from pandas) (2.8.2)\n",
      "Requirement already satisfied: libclang>=13.0.0 in c:\\users\\snpra\\miniconda3\\envs\\ai\\lib\\site-packages (from tensorflow) (16.0.0)\n",
      "Requirement already satisfied: wrapt>=1.11.0 in c:\\users\\snpra\\miniconda3\\envs\\ai\\lib\\site-packages (from tensorflow) (1.14.1)\n",
      "Requirement already satisfied: google-pasta>=0.1.1 in c:\\users\\snpra\\miniconda3\\envs\\ai\\lib\\site-packages (from tensorflow) (0.2.0)\n",
      "Requirement already satisfied: keras<2.11,>=2.10.0 in c:\\users\\snpra\\miniconda3\\envs\\ai\\lib\\site-packages (from tensorflow) (2.10.0)\n",
      "Requirement already satisfied: six>=1.12.0 in c:\\users\\snpra\\miniconda3\\envs\\ai\\lib\\site-packages (from tensorflow) (1.16.0)\n",
      "Requirement already satisfied: packaging in c:\\users\\snpra\\miniconda3\\envs\\ai\\lib\\site-packages (from tensorflow) (22.0)\n",
      "Requirement already satisfied: h5py>=2.9.0 in c:\\users\\snpra\\miniconda3\\envs\\ai\\lib\\site-packages (from tensorflow) (3.7.0)\n",
      "Requirement already satisfied: tensorflow-io-gcs-filesystem>=0.23.1 in c:\\users\\snpra\\miniconda3\\envs\\ai\\lib\\site-packages (from tensorflow) (0.31.0)\n",
      "Requirement already satisfied: opt-einsum>=2.3.2 in c:\\users\\snpra\\miniconda3\\envs\\ai\\lib\\site-packages (from tensorflow) (3.3.0)\n",
      "Requirement already satisfied: grpcio<2.0,>=1.24.3 in c:\\users\\snpra\\miniconda3\\envs\\ai\\lib\\site-packages (from tensorflow) (1.48.2)\n",
      "Requirement already satisfied: protobuf<3.20,>=3.9.2 in c:\\users\\snpra\\miniconda3\\envs\\ai\\lib\\site-packages (from tensorflow) (3.19.6)\n",
      "Requirement already satisfied: termcolor>=1.1.0 in c:\\users\\snpra\\miniconda3\\envs\\ai\\lib\\site-packages (from tensorflow) (2.1.0)\n",
      "Requirement already satisfied: tensorflow-estimator<2.11,>=2.10.0 in c:\\users\\snpra\\miniconda3\\envs\\ai\\lib\\site-packages (from tensorflow) (2.10.0)\n",
      "Requirement already satisfied: setuptools in c:\\users\\snpra\\miniconda3\\envs\\ai\\lib\\site-packages (from tensorflow) (65.6.3)\n",
      "Requirement already satisfied: typing-extensions>=3.6.6 in c:\\users\\snpra\\miniconda3\\envs\\ai\\lib\\site-packages (from tensorflow) (4.4.0)\n",
      "Requirement already satisfied: tensorboard<2.11,>=2.10 in c:\\users\\snpra\\miniconda3\\envs\\ai\\lib\\site-packages (from tensorflow) (2.10.0)\n",
      "Requirement already satisfied: keras-preprocessing>=1.1.1 in c:\\users\\snpra\\miniconda3\\envs\\ai\\lib\\site-packages (from tensorflow) (1.1.2)\n",
      "Requirement already satisfied: astunparse>=1.6.0 in c:\\users\\snpra\\miniconda3\\envs\\ai\\lib\\site-packages (from tensorflow) (1.6.3)\n",
      "Requirement already satisfied: gast<=0.4.0,>=0.2.1 in c:\\users\\snpra\\miniconda3\\envs\\ai\\lib\\site-packages (from tensorflow) (0.4.0)\n",
      "Requirement already satisfied: absl-py>=1.0.0 in c:\\users\\snpra\\miniconda3\\envs\\ai\\lib\\site-packages (from tensorflow) (1.3.0)\n",
      "Requirement already satisfied: flatbuffers>=2.0 in c:\\users\\snpra\\miniconda3\\envs\\ai\\lib\\site-packages (from tensorflow) (2.0)\n",
      "Requirement already satisfied: wheel<1.0,>=0.23.0 in c:\\users\\snpra\\miniconda3\\envs\\ai\\lib\\site-packages (from astunparse>=1.6.0->tensorflow) (0.37.1)\n",
      "Requirement already satisfied: google-auth-oauthlib<0.5,>=0.4.1 in c:\\users\\snpra\\miniconda3\\envs\\ai\\lib\\site-packages (from tensorboard<2.11,>=2.10->tensorflow) (0.4.4)\n",
      "Requirement already satisfied: markdown>=2.6.8 in c:\\users\\snpra\\miniconda3\\envs\\ai\\lib\\site-packages (from tensorboard<2.11,>=2.10->tensorflow) (3.4.1)\n",
      "Requirement already satisfied: requests<3,>=2.21.0 in c:\\users\\snpra\\miniconda3\\envs\\ai\\lib\\site-packages (from tensorboard<2.11,>=2.10->tensorflow) (2.28.1)\n",
      "Requirement already satisfied: tensorboard-plugin-wit>=1.6.0 in c:\\users\\snpra\\miniconda3\\envs\\ai\\lib\\site-packages (from tensorboard<2.11,>=2.10->tensorflow) (1.8.1)\n",
      "Requirement already satisfied: google-auth<3,>=1.6.3 in c:\\users\\snpra\\miniconda3\\envs\\ai\\lib\\site-packages (from tensorboard<2.11,>=2.10->tensorflow) (2.6.0)\n",
      "Requirement already satisfied: werkzeug>=1.0.1 in c:\\users\\snpra\\miniconda3\\envs\\ai\\lib\\site-packages (from tensorboard<2.11,>=2.10->tensorflow) (2.2.3)\n",
      "Requirement already satisfied: tensorboard-data-server<0.7.0,>=0.6.0 in c:\\users\\snpra\\miniconda3\\envs\\ai\\lib\\site-packages (from tensorboard<2.11,>=2.10->tensorflow) (0.6.1)\n",
      "Requirement already satisfied: rsa<5,>=3.1.4 in c:\\users\\snpra\\miniconda3\\envs\\ai\\lib\\site-packages (from google-auth<3,>=1.6.3->tensorboard<2.11,>=2.10->tensorflow) (4.7.2)\n",
      "Requirement already satisfied: pyasn1-modules>=0.2.1 in c:\\users\\snpra\\miniconda3\\envs\\ai\\lib\\site-packages (from google-auth<3,>=1.6.3->tensorboard<2.11,>=2.10->tensorflow) (0.2.8)\n",
      "Requirement already satisfied: cachetools<6.0,>=2.0.0 in c:\\users\\snpra\\miniconda3\\envs\\ai\\lib\\site-packages (from google-auth<3,>=1.6.3->tensorboard<2.11,>=2.10->tensorflow) (4.2.2)\n",
      "Requirement already satisfied: requests-oauthlib>=0.7.0 in c:\\users\\snpra\\miniconda3\\envs\\ai\\lib\\site-packages (from google-auth-oauthlib<0.5,>=0.4.1->tensorboard<2.11,>=2.10->tensorflow) (1.3.0)\n",
      "Requirement already satisfied: idna<4,>=2.5 in c:\\users\\snpra\\miniconda3\\envs\\ai\\lib\\site-packages (from requests<3,>=2.21.0->tensorboard<2.11,>=2.10->tensorflow) (3.4)\n",
      "Requirement already satisfied: urllib3<1.27,>=1.21.1 in c:\\users\\snpra\\miniconda3\\envs\\ai\\lib\\site-packages (from requests<3,>=2.21.0->tensorboard<2.11,>=2.10->tensorflow) (1.26.14)\n",
      "Requirement already satisfied: charset-normalizer<3,>=2 in c:\\users\\snpra\\miniconda3\\envs\\ai\\lib\\site-packages (from requests<3,>=2.21.0->tensorboard<2.11,>=2.10->tensorflow) (2.0.4)\n",
      "Requirement already satisfied: certifi>=2017.4.17 in c:\\users\\snpra\\miniconda3\\envs\\ai\\lib\\site-packages (from requests<3,>=2.21.0->tensorboard<2.11,>=2.10->tensorflow) (2023.5.7)\n",
      "Requirement already satisfied: MarkupSafe>=2.1.1 in c:\\users\\snpra\\miniconda3\\envs\\ai\\lib\\site-packages (from werkzeug>=1.0.1->tensorboard<2.11,>=2.10->tensorflow) (2.1.1)\n",
      "Requirement already satisfied: pyasn1<0.5.0,>=0.4.6 in c:\\users\\snpra\\miniconda3\\envs\\ai\\lib\\site-packages (from pyasn1-modules>=0.2.1->google-auth<3,>=1.6.3->tensorboard<2.11,>=2.10->tensorflow) (0.4.8)\n",
      "Requirement already satisfied: oauthlib>=3.0.0 in c:\\users\\snpra\\miniconda3\\envs\\ai\\lib\\site-packages (from requests-oauthlib>=0.7.0->google-auth-oauthlib<0.5,>=0.4.1->tensorboard<2.11,>=2.10->tensorflow) (3.2.2)\n"
     ]
    }
   ],
   "source": [
    "!pip install pandas numpy tensorflow sklearn"
   ]
  },
  {
   "cell_type": "code",
   "execution_count": 1,
   "id": "06cf3a56",
   "metadata": {},
   "outputs": [
    {
     "name": "stdout",
     "output_type": "stream",
     "text": [
      "Collecting xgboost\n",
      "  Downloading xgboost-1.7.6-py3-none-win_amd64.whl (70.9 MB)\n",
      "     ---------------------------------------- 70.9/70.9 MB 1.4 MB/s eta 0:00:00\n",
      "Requirement already satisfied: numpy in c:\\users\\snpra\\miniconda3\\envs\\ai\\lib\\site-packages (from xgboost) (1.23.5)\n",
      "Requirement already satisfied: scipy in c:\\users\\snpra\\miniconda3\\envs\\ai\\lib\\site-packages (from xgboost) (1.10.0)\n",
      "Installing collected packages: xgboost\n",
      "Successfully installed xgboost-1.7.6\n"
     ]
    }
   ],
   "source": [
    "!pip install xgboost"
   ]
  },
  {
   "cell_type": "markdown",
   "id": "7a71a24d",
   "metadata": {},
   "source": [
    "Importing necessary libraries"
   ]
  },
  {
   "cell_type": "code",
   "execution_count": 31,
   "id": "ebda3dea",
   "metadata": {},
   "outputs": [
    {
     "ename": "ImportError",
     "evalue": "cannot import name 'save_model' from 'xgboost' (C:\\Users\\snpra\\miniconda3\\envs\\AI\\lib\\site-packages\\xgboost\\__init__.py)",
     "output_type": "error",
     "traceback": [
      "\u001b[1;31m---------------------------------------------------------------------------\u001b[0m",
      "\u001b[1;31mImportError\u001b[0m                               Traceback (most recent call last)",
      "Cell \u001b[1;32mIn[31], line 13\u001b[0m\n\u001b[0;32m     11\u001b[0m \u001b[38;5;28;01mfrom\u001b[39;00m \u001b[38;5;21;01msklearn\u001b[39;00m\u001b[38;5;21;01m.\u001b[39;00m\u001b[38;5;21;01mmetrics\u001b[39;00m \u001b[38;5;28;01mimport\u001b[39;00m f1_score, precision_score, recall_score, accuracy_score \n\u001b[0;32m     12\u001b[0m \u001b[38;5;28;01mfrom\u001b[39;00m \u001b[38;5;21;01msklearn\u001b[39;00m\u001b[38;5;21;01m.\u001b[39;00m\u001b[38;5;21;01mmodel_selection\u001b[39;00m \u001b[38;5;28;01mimport\u001b[39;00m cross_val_score, KFold\n\u001b[1;32m---> 13\u001b[0m \u001b[38;5;28;01mfrom\u001b[39;00m \u001b[38;5;21;01mxgboost\u001b[39;00m \u001b[38;5;28;01mimport\u001b[39;00m XGBClassifier, save_model\n",
      "\u001b[1;31mImportError\u001b[0m: cannot import name 'save_model' from 'xgboost' (C:\\Users\\snpra\\miniconda3\\envs\\AI\\lib\\site-packages\\xgboost\\__init__.py)"
     ]
    }
   ],
   "source": [
    "import pandas as pd\n",
    "import numpy as np\n",
    "import tensorflow as tf\n",
    "from tensorflow.keras import preprocessing\n",
    "from tensorflow.keras.models import Sequential\n",
    "from tensorflow.keras.layers import Dense\n",
    "from tensorflow.keras.optimizers import Adam\n",
    "from tensorflow.keras.losses import BinaryCrossentropy\n",
    "from tensorflow.keras import regularizers\n",
    "from sklearn.model_selection import train_test_split\n",
    "from sklearn.metrics import f1_score, precision_score, recall_score, accuracy_score"
   ]
  },
  {
   "cell_type": "markdown",
   "id": "52b9258e",
   "metadata": {},
   "source": [
    "### Loading the dataset"
   ]
  },
  {
   "cell_type": "code",
   "execution_count": 3,
   "id": "0899a951",
   "metadata": {},
   "outputs": [
    {
     "name": "stdout",
     "output_type": "stream",
     "text": [
      "<class 'pandas.core.frame.DataFrame'>\n",
      "RangeIndex: 100000 entries, 0 to 99999\n",
      "Data columns (total 9 columns):\n",
      " #   Column               Non-Null Count   Dtype  \n",
      "---  ------               --------------   -----  \n",
      " 0   gender               100000 non-null  object \n",
      " 1   age                  100000 non-null  float64\n",
      " 2   hypertension         100000 non-null  int64  \n",
      " 3   heart_disease        100000 non-null  int64  \n",
      " 4   smoking_history      100000 non-null  object \n",
      " 5   bmi                  100000 non-null  float64\n",
      " 6   HbA1c_level          100000 non-null  float64\n",
      " 7   blood_glucose_level  100000 non-null  int64  \n",
      " 8   diabetes             100000 non-null  int64  \n",
      "dtypes: float64(3), int64(4), object(2)\n",
      "memory usage: 6.9+ MB\n",
      "None\n"
     ]
    }
   ],
   "source": [
    "df = pd.read_csv('archive/diabetes_prediction_dataset.csv')\n",
    "print(df.info())"
   ]
  },
  {
   "cell_type": "markdown",
   "id": "d8402a01",
   "metadata": {},
   "source": [
    "### Checking for missing values"
   ]
  },
  {
   "cell_type": "code",
   "execution_count": 4,
   "id": "10c01dbf",
   "metadata": {},
   "outputs": [
    {
     "name": "stdout",
     "output_type": "stream",
     "text": [
      "gender                 0\n",
      "age                    0\n",
      "hypertension           0\n",
      "heart_disease          0\n",
      "smoking_history        0\n",
      "bmi                    0\n",
      "HbA1c_level            0\n",
      "blood_glucose_level    0\n",
      "diabetes               0\n",
      "dtype: int64\n"
     ]
    }
   ],
   "source": [
    "print(df.isnull().sum())"
   ]
  },
  {
   "cell_type": "markdown",
   "id": "103c66e7",
   "metadata": {},
   "source": [
    "### Displaying the first few rows of the dataset"
   ]
  },
  {
   "cell_type": "code",
   "execution_count": 5,
   "id": "d9344168",
   "metadata": {},
   "outputs": [
    {
     "name": "stdout",
     "output_type": "stream",
     "text": [
      "   gender   age  hypertension  heart_disease smoking_history    bmi  \\\n",
      "0  Female  80.0             0              1           never  25.19   \n",
      "1  Female  54.0             0              0         No Info  27.32   \n",
      "2    Male  28.0             0              0           never  27.32   \n",
      "3  Female  36.0             0              0         current  23.45   \n",
      "4    Male  76.0             1              1         current  20.14   \n",
      "\n",
      "   HbA1c_level  blood_glucose_level  diabetes  \n",
      "0          6.6                  140         0  \n",
      "1          6.6                   80         0  \n",
      "2          5.7                  158         0  \n",
      "3          5.0                  155         0  \n",
      "4          4.8                  155         0  \n"
     ]
    }
   ],
   "source": [
    "print(df.head())"
   ]
  },
  {
   "cell_type": "markdown",
   "id": "3551ecd1",
   "metadata": {},
   "source": [
    "### Preprocessing the data"
   ]
  },
  {
   "cell_type": "code",
   "execution_count": 6,
   "id": "90bfaae9",
   "metadata": {},
   "outputs": [
    {
     "name": "stdout",
     "output_type": "stream",
     "text": [
      "[['Female' 80.0 0 ... 25.19 6.6 140]\n",
      " ['Female' 54.0 0 ... 27.32 6.6 80]\n",
      " ['Male' 28.0 0 ... 27.32 5.7 158]\n",
      " ...\n",
      " ['Male' 66.0 0 ... 27.83 5.7 155]\n",
      " ['Female' 24.0 0 ... 35.42 4.0 100]\n",
      " ['Female' 57.0 0 ... 22.43 6.6 90]]\n"
     ]
    }
   ],
   "source": [
    "columns_considered = ['gender','age','hypertension', 'smoking_history','heart_disease',\n",
    "       'bmi', 'HbA1c_level', 'blood_glucose_level']\n",
    "x = df[columns_considered].values\n",
    "y = df['diabetes']\n",
    "\n",
    "print(x)"
   ]
  },
  {
   "cell_type": "code",
   "execution_count": 7,
   "id": "4dbe41a2",
   "metadata": {},
   "outputs": [
    {
     "name": "stdout",
     "output_type": "stream",
     "text": [
      "Unique values of Smoking History:  ['No Info' 'current' 'ever' 'former' 'never' 'not current']\n",
      "Unique values of Smoking History after changing to numerical values:  [0 1 2 3 4 5]\n"
     ]
    }
   ],
   "source": [
    "print(\"Unique values of Smoking History: \",np.unique(x[:,3]))\n",
    "x[:,3] = np.where(x[:,3]=='No Info',0,np.where(x[:,3]=='current',1,np.where(x[:,3]=='ever',2,np.where(x[:,3]=='former',3,np.where(x[:,3]=='never',4,5)))))\n",
    "print(\"Unique values of Smoking History after changing to numerical values: \",np.unique(x[:,3]))"
   ]
  },
  {
   "cell_type": "code",
   "execution_count": 8,
   "id": "85302ae0",
   "metadata": {},
   "outputs": [
    {
     "name": "stdout",
     "output_type": "stream",
     "text": [
      "Unique values of Gender:  ['Female' 'Male' 'Other']\n",
      "Unique values of Gender after changing to numerical values:  [0 1 2]\n"
     ]
    }
   ],
   "source": [
    "print(\"Unique values of Gender: \",np.unique(x[:,0]))\n",
    "x[:,0] = np.where(x[:,0]=='Female',0,np.where(x[:,0]=='Male',1,2))\n",
    "print(\"Unique values of Gender after changing to numerical values: \",np.unique(x[:,0]))"
   ]
  },
  {
   "cell_type": "markdown",
   "id": "418d2120",
   "metadata": {},
   "source": [
    "### Checking the distribution of target classes"
   ]
  },
  {
   "cell_type": "code",
   "execution_count": 9,
   "id": "6b2b5d15",
   "metadata": {},
   "outputs": [
    {
     "name": "stdout",
     "output_type": "stream",
     "text": [
      "Number of non diabetes record:  91500\n",
      "Number of diabetes record:  8500\n"
     ]
    }
   ],
   "source": [
    "print(\"Number of non diabetes record: \",np.count_nonzero(y==0))\n",
    "print(\"Number of diabetes record: \",np.count_nonzero(y==1))"
   ]
  },
  {
   "cell_type": "markdown",
   "id": "b4d83153",
   "metadata": {},
   "source": [
    "#### Handling class imbalance using SMOTE"
   ]
  },
  {
   "cell_type": "code",
   "execution_count": 10,
   "id": "14462000",
   "metadata": {},
   "outputs": [
    {
     "name": "stdout",
     "output_type": "stream",
     "text": [
      "Number of non diabetes record:  91500\n",
      "Number of diabetes record:  91500\n"
     ]
    }
   ],
   "source": [
    "from imblearn.over_sampling import SMOTE\n",
    "#Resampling the minority class. The strategy can be changed as required.\n",
    "sm = SMOTE(sampling_strategy='minority', random_state=42)\n",
    "#Fit the model to generate the data.\n",
    "oversampled_X, oversampled_Y = sm.fit_resample(x, y)\n",
    "print(\"Number of non diabetes record: \",np.count_nonzero(oversampled_Y==0))\n",
    "print(\"Number of diabetes record: \",np.count_nonzero(oversampled_Y==1))"
   ]
  },
  {
   "cell_type": "markdown",
   "id": "7b66ca5f",
   "metadata": {},
   "source": [
    "### Normalizing the input data"
   ]
  },
  {
   "cell_type": "code",
   "execution_count": 11,
   "id": "978e7168",
   "metadata": {},
   "outputs": [],
   "source": [
    "norm_l = tf.keras.layers.Normalization(axis=-1)\n",
    "norm_l.adapt(oversampled_X)  # learns mean, variance\n",
    "\n",
    "norm_model = Sequential([\n",
    "    norm_l\n",
    "])\n",
    "norm_model.compile()\n",
    "x_norm = norm_l(oversampled_X)\n",
    "x_norm = x_norm.numpy()"
   ]
  },
  {
   "cell_type": "markdown",
   "id": "29b31efe",
   "metadata": {},
   "source": [
    "### Splitting the dataset into training and testing sets"
   ]
  },
  {
   "cell_type": "code",
   "execution_count": 12,
   "id": "0653fec3",
   "metadata": {},
   "outputs": [
    {
     "name": "stdout",
     "output_type": "stream",
     "text": [
      "Training shape:  (122610, 8)\n",
      "Test shape:  (60390, 8)\n"
     ]
    }
   ],
   "source": [
    "Xtrain, Xtest, Ytrain, Ytest = train_test_split(x_norm,oversampled_Y, test_size = 0.33, random_state = 42)\n",
    "print(\"Training shape: \",Xtrain.shape)\n",
    "print(\"Test shape: \",Xtest.shape)"
   ]
  },
  {
   "cell_type": "markdown",
   "id": "58762dcb",
   "metadata": {},
   "source": [
    "### Building and training the model"
   ]
  },
  {
   "cell_type": "code",
   "execution_count": 20,
   "id": "9f729795",
   "metadata": {},
   "outputs": [
    {
     "name": "stdout",
     "output_type": "stream",
     "text": [
      "Epoch 1/10\n",
      "3832/3832 [==============================] - 6s 1ms/step - loss: 0.2345\n",
      "Epoch 2/10\n",
      "3832/3832 [==============================] - 6s 2ms/step - loss: 0.1748\n",
      "Epoch 3/10\n",
      "3832/3832 [==============================] - 6s 2ms/step - loss: 0.1572\n",
      "Epoch 4/10\n",
      "3832/3832 [==============================] - 6s 1ms/step - loss: 0.1520\n",
      "Epoch 5/10\n",
      "3832/3832 [==============================] - 6s 1ms/step - loss: 0.1476\n",
      "Epoch 6/10\n",
      "3832/3832 [==============================] - 6s 2ms/step - loss: 0.1459\n",
      "Epoch 7/10\n",
      "3832/3832 [==============================] - 6s 2ms/step - loss: 0.1442\n",
      "Epoch 8/10\n",
      "3832/3832 [==============================] - 6s 2ms/step - loss: 0.1420\n",
      "Epoch 9/10\n",
      "3832/3832 [==============================] - 6s 2ms/step - loss: 0.1421\n",
      "Epoch 10/10\n",
      "3832/3832 [==============================] - 6s 2ms/step - loss: 0.1413\n"
     ]
    },
    {
     "data": {
      "text/plain": [
       "<keras.callbacks.History at 0x1c9354db640>"
      ]
     },
     "execution_count": 20,
     "metadata": {},
     "output_type": "execute_result"
    }
   ],
   "source": [
    "model = Sequential([\n",
    "    Dense(8,'relu',kernel_regularizer = regularizers.L2(1e-4)),\n",
    "    Dense(32,'relu',kernel_regularizer = regularizers.L2(1e-4)),\n",
    "    Dense(128,'relu',kernel_regularizer = regularizers.L2(1e-4)),\n",
    "    Dense(64,'relu',kernel_regularizer = regularizers.L2(1e-4)),\n",
    "    Dense(32,'relu',kernel_regularizer = regularizers.L2(1e-4)),\n",
    "    Dense(1,'linear',kernel_regularizer = regularizers.L2(1e-4))\n",
    "])\n",
    "model.compile(loss=BinaryCrossentropy(from_logits=True),optimizer=Adam(0.001))\n",
    "model.fit(Xtrain, Ytrain,epochs=10)"
   ]
  },
  {
   "cell_type": "markdown",
   "id": "706803ce",
   "metadata": {},
   "source": [
    "### Evaluating the model"
   ]
  },
  {
   "cell_type": "code",
   "execution_count": 29,
   "id": "89f6df84",
   "metadata": {},
   "outputs": [
    {
     "name": "stdout",
     "output_type": "stream",
     "text": [
      "F1 score: 0.982637668056323\n",
      "Precision:  0.9970779110461758\n",
      "Recall:  0.9686097174544495\n",
      "Accuracy:  0.9828282828282828\n",
      "Mean cross-validation score: 0.98\n",
      "K-fold CV average score: 0.98\n"
     ]
    }
   ],
   "source": [
    "Y_pred = model(Xtest)\n",
    "Y_pred = tf.nn.sigmoid(Y_pred)\n",
    "Y_pred = np.where(Y_pred<=0.5,0,1)\n",
    "f1 = f1_score(Ytest, Y_pred)\n",
    "precision = precision_score(Ytest,Y_pred)\n",
    "recall = recall_score(Ytest,Y_pred)\n",
    "accuracy = accuracy_score(Ytest, Y_pred)\n",
    "print(\"F1 score:\", f1)\n",
    "print(\"Precision: \", precision)\n",
    "print(\"Recall: \",recall)\n",
    "print(\"Accuracy: \",accuracy)"
   ]
  },
  {
   "cell_type": "markdown",
   "id": "5ff4bcc4",
   "metadata": {},
   "source": [
    "### Model summary and saving the model"
   ]
  },
  {
   "cell_type": "code",
   "execution_count": 33,
   "id": "81eeaefa",
   "metadata": {},
   "outputs": [
    {
     "name": "stdout",
     "output_type": "stream",
     "text": [
      "INFO:tensorflow:Assets written to: Normalized_model\\assets\n"
     ]
    }
   ],
   "source": [
    "model.summary()\n",
    "# Save the TensorFlow model\n",
    "model.save('diabetes_model')\n",
    "norm_model.save(\"Normalized_model\")"
   ]
  },
  {
   "cell_type": "code",
   "execution_count": null,
   "id": "b5d008e1",
   "metadata": {},
   "outputs": [],
   "source": []
  },
  {
   "cell_type": "code",
   "execution_count": null,
   "id": "c3a2759a",
   "metadata": {},
   "outputs": [],
   "source": []
  }
 ],
 "metadata": {
  "kernelspec": {
   "display_name": "Python 3 (ipykernel)",
   "language": "python",
   "name": "python3"
  },
  "language_info": {
   "codemirror_mode": {
    "name": "ipython",
    "version": 3
   },
   "file_extension": ".py",
   "mimetype": "text/x-python",
   "name": "python",
   "nbconvert_exporter": "python",
   "pygments_lexer": "ipython3",
   "version": "3.10.9"
  }
 },
 "nbformat": 4,
 "nbformat_minor": 5
}
